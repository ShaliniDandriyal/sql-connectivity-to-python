{
 "cells": [
  {
   "cell_type": "code",
   "execution_count": 1,
   "id": "9dcd7e3d",
   "metadata": {},
   "outputs": [],
   "source": [
    "import pyodbc\n",
    "import numpy as np\n",
    "import pandas as pd"
   ]
  },
  {
   "cell_type": "code",
   "execution_count": 2,
   "id": "9ef45b51",
   "metadata": {},
   "outputs": [],
   "source": [
    "path=pyodbc.connect('Driver={SQL Server};''Server=DESKTOP-79QHG70\\SQLEXPRESS;''Database=shalini;''Trusted_Connection=yes')\n",
    "cursor=path.cursor()"
   ]
  },
  {
   "cell_type": "code",
   "execution_count": 4,
   "id": "03ba2ccd",
   "metadata": {},
   "outputs": [
    {
     "name": "stdout",
     "output_type": "stream",
     "text": [
      "(63679, 'SANDRINE', 'CLERK', 69062, '1990-12-18', Decimal('900.00'), None, 2001)\n",
      "(64989, 'ADELYN', 'SALESMAN', 66928, '1991-02-20', Decimal('1700.00'), Decimal('400.00'), 3001)\n",
      "(65271, 'WADE', 'SALESMAN', 66928, '1991-02-22', Decimal('1350.00'), Decimal('600.00'), 3001)\n",
      "(65646, 'JONAS', 'MANAGER', 68319, '1991-04-02', Decimal('2957.00'), None, 2001)\n",
      "(66564, 'MADDEN', 'SALESMAN', 66928, '1991-09-28', Decimal('1350.00'), Decimal('1500.00'), 3001)\n",
      "(66928, 'BLAZE', 'MANAGER', 68319, '1991-05-01', Decimal('2750.00'), None, 3001)\n",
      "(67832, 'CLARE ', 'MANAGER', 68319, '1991-06-09', Decimal('2550.00'), None, 1001)\n",
      "(67858, 'SCARLET', 'ANALYST', 65646, '1997-04-19', Decimal('3100.00'), None, 2001)\n",
      "(68319, 'KAYLING', 'PRESIDENT', None, '1991-11-18', Decimal('6000.00'), None, 1001)\n",
      "(68454, 'TUCKER', 'SALESMAN', 66928, '1991-09-08', Decimal('600.00'), Decimal('0.00'), 3001)\n",
      "(68736, 'ADNRES', 'CLERK', 67858, '1997-05-23', Decimal('1200.00'), None, 2001)\n",
      "(69000, 'JULIUS', 'CLERK', 66928, '1991-12-03', Decimal('1050.00'), None, 3001)\n",
      "(69062, 'FRANK ', 'ANALYST', 65646, '1991-12-03', Decimal('3100.00'), None, 2001)\n",
      "(69324, 'MARKER', 'CLERK', 67832, '1992-01-23', Decimal('1400.00'), None, 1001)\n"
     ]
    }
   ],
   "source": [
    "cursor.execute('select * from dbo.employees')\n",
    "for i in cursor:\n",
    "    print(i)"
   ]
  },
  {
   "cell_type": "code",
   "execution_count": 5,
   "id": "f7b428da",
   "metadata": {},
   "outputs": [
    {
     "name": "stdout",
     "output_type": "stream",
     "text": [
      "('department', 885578193, None, 1, 0, 'U ', 'USER_TABLE', datetime.datetime(2022, 9, 23, 11, 2, 18, 540000), datetime.datetime(2022, 9, 23, 11, 2, 36, 950000), False, False, False, 0, None, 3, False, True, False, False, False, False, False, 0, False, False, 0, 'TABLE', False, False, 0, 'SCHEMA_AND_DATA', 0, 'NON_TEMPORAL_TABLE', None, False, False, None, None, None, False, False)\n",
      "('salary_grade', 917578307, None, 1, 0, 'U ', 'USER_TABLE', datetime.datetime(2022, 9, 23, 11, 2, 23, 20000), datetime.datetime(2022, 9, 23, 11, 2, 23, 20000), False, False, False, 0, None, 3, False, True, False, False, False, False, False, 0, False, False, 0, 'TABLE', False, False, 0, 'SCHEMA_AND_DATA', 0, 'NON_TEMPORAL_TABLE', None, False, False, None, None, None, False, False)\n",
      "('employees', 949578421, None, 1, 0, 'U ', 'USER_TABLE', datetime.datetime(2022, 9, 23, 11, 2, 36, 943000), datetime.datetime(2022, 9, 23, 11, 2, 36, 943000), False, False, False, 0, None, 8, False, True, False, False, False, False, False, 0, False, False, 0, 'TABLE', False, False, 0, 'SCHEMA_AND_DATA', 0, 'NON_TEMPORAL_TABLE', None, False, False, None, None, None, False, False)\n"
     ]
    }
   ],
   "source": [
    "cursor.execute('select * from sys.tables')\n",
    "for i in cursor:\n",
    "    print(i)"
   ]
  },
  {
   "cell_type": "code",
   "execution_count": 6,
   "id": "5b929b3d",
   "metadata": {},
   "outputs": [
    {
     "name": "stdout",
     "output_type": "stream",
     "text": [
      "('master', 1, None, b'\\x01', datetime.datetime(2003, 4, 8, 9, 13, 36, 390000), 150, 'SQL_Latin1_General_CP1_CI_AS', 0, 'MULTI_USER', False, False, False, 0, 'ONLINE', False, False, False, 1, 'ON', False, 3, 'SIMPLE', 2, 'CHECKSUM', True, False, True, False, False, False, False, False, False, False, False, False, False, False, False, False, False, True, False, False, False, False, False, False, False, False, '00000000-0000-0000-0000-000000000000', False, 0, 'NOTHING', False, False, False, False, None, None, None, None, None, None, None, None, None, None, 0, 'NONE', 0, 0, 'DISABLED', False, False, False, True, True, 0, 'DATABASE_DEFAULT', 'master', False, False, False, False, True)\n",
      "('tempdb', 2, None, b'\\x01', datetime.datetime(2022, 9, 22, 4, 1, 49, 317000), 150, 'SQL_Latin1_General_CP1_CI_AS', 0, 'MULTI_USER', False, False, False, 0, 'ONLINE', False, False, False, 0, 'OFF', False, 3, 'SIMPLE', 2, 'CHECKSUM', True, False, True, False, False, False, False, False, False, False, False, False, False, False, False, False, False, True, False, False, False, False, False, False, False, False, '9DB165FD-F559-441C-8D5B-75C0B8BB522B', True, 0, 'NOTHING', False, False, False, False, None, None, None, None, None, None, None, None, None, None, 0, 'NONE', 60, 0, 'DISABLED', False, False, False, False, True, 0, 'DATABASE_DEFAULT', 'tempdb', False, False, False, False, True)\n",
      "('model', 3, None, b'\\x01', datetime.datetime(2003, 4, 8, 9, 13, 36, 390000), 150, 'SQL_Latin1_General_CP1_CI_AS', 0, 'MULTI_USER', False, False, False, 0, 'ONLINE', False, False, False, 0, 'OFF', False, 3, 'SIMPLE', 2, 'CHECKSUM', True, False, True, False, False, False, False, False, False, False, False, False, False, False, False, False, False, False, False, False, False, False, False, False, False, False, '00000000-0000-0000-0000-000000000000', False, 0, 'NOTHING', False, False, False, False, None, None, None, None, None, None, None, None, None, None, 0, 'NONE', 60, 0, 'DISABLED', False, False, False, True, True, 0, 'DATABASE_DEFAULT', 'model', False, False, False, False, True)\n",
      "('msdb', 4, None, b'\\x01', datetime.datetime(2019, 9, 24, 14, 21, 42, 270000), 150, 'SQL_Latin1_General_CP1_CI_AS', 0, 'MULTI_USER', False, False, False, 0, 'ONLINE', False, False, False, 1, 'ON', False, 3, 'SIMPLE', 2, 'CHECKSUM', True, False, True, False, False, False, False, False, False, False, False, False, False, False, False, True, True, True, False, False, False, False, False, False, False, False, 'B04C1D53-8D6A-4B39-B9B6-F52471E6FA28', True, 0, 'NOTHING', False, False, False, False, None, None, None, None, None, None, None, None, None, None, 0, 'NONE', 60, 0, 'DISABLED', False, False, False, True, True, 0, 'DATABASE_DEFAULT', 'msdb', False, False, False, False, True)\n",
      "('shalini', 5, None, b\"\\x01\\x05\\x00\\x00\\x00\\x00\\x00\\x05\\x15\\x00\\x00\\x00\\x18\\xed\\x0e'I\\xb0\\t\\xfdb\\xa4\\xc1\\x05\\xe9\\x03\\x00\\x00\", datetime.datetime(2022, 9, 23, 11, 2, 3, 730000), 150, 'SQL_Latin1_General_CP1_CI_AS', 0, 'MULTI_USER', False, True, False, 0, 'ONLINE', False, False, False, 0, 'OFF', False, 3, 'SIMPLE', 2, 'CHECKSUM', True, False, True, False, False, False, False, False, False, False, False, False, False, False, False, True, False, False, False, False, False, False, False, False, False, False, '22C45244-7CA0-4E34-9E03-997486F0F370', True, 0, 'NOTHING', False, False, False, False, None, None, None, None, None, None, None, None, None, None, 0, 'NONE', 60, 0, 'DISABLED', False, False, False, False, True, 0, 'DATABASE_DEFAULT', 'shalini', False, False, False, False, True)\n"
     ]
    }
   ],
   "source": [
    "cursor.execute('select * from sys.databases')\n",
    "for i in cursor:\n",
    "    print(i)"
   ]
  },
  {
   "cell_type": "code",
   "execution_count": 9,
   "id": "79b5b941",
   "metadata": {},
   "outputs": [
    {
     "data": {
      "text/plain": [
       "(63679, 'SANDRINE', 'CLERK', 69062, '1990-12-18', Decimal('900.00'), None, 2001)"
      ]
     },
     "execution_count": 9,
     "metadata": {},
     "output_type": "execute_result"
    }
   ],
   "source": [
    "cursor.execute('select * from employees')\n",
    "a=cursor.fetchone()\n",
    "a"
   ]
  },
  {
   "cell_type": "code",
   "execution_count": 10,
   "id": "8b7daa33",
   "metadata": {},
   "outputs": [
    {
     "data": {
      "text/plain": [
       "[(63679, 'SANDRINE', 'CLERK', 69062, '1990-12-18', Decimal('900.00'), None, 2001),\n",
       " (64989, 'ADELYN', 'SALESMAN', 66928, '1991-02-20', Decimal('1700.00'), Decimal('400.00'), 3001),\n",
       " (65271, 'WADE', 'SALESMAN', 66928, '1991-02-22', Decimal('1350.00'), Decimal('600.00'), 3001),\n",
       " (65646, 'JONAS', 'MANAGER', 68319, '1991-04-02', Decimal('2957.00'), None, 2001),\n",
       " (66564, 'MADDEN', 'SALESMAN', 66928, '1991-09-28', Decimal('1350.00'), Decimal('1500.00'), 3001),\n",
       " (66928, 'BLAZE', 'MANAGER', 68319, '1991-05-01', Decimal('2750.00'), None, 3001),\n",
       " (67832, 'CLARE ', 'MANAGER', 68319, '1991-06-09', Decimal('2550.00'), None, 1001),\n",
       " (67858, 'SCARLET', 'ANALYST', 65646, '1997-04-19', Decimal('3100.00'), None, 2001),\n",
       " (68319, 'KAYLING', 'PRESIDENT', None, '1991-11-18', Decimal('6000.00'), None, 1001),\n",
       " (68454, 'TUCKER', 'SALESMAN', 66928, '1991-09-08', Decimal('600.00'), Decimal('0.00'), 3001),\n",
       " (68736, 'ADNRES', 'CLERK', 67858, '1997-05-23', Decimal('1200.00'), None, 2001),\n",
       " (69000, 'JULIUS', 'CLERK', 66928, '1991-12-03', Decimal('1050.00'), None, 3001),\n",
       " (69062, 'FRANK ', 'ANALYST', 65646, '1991-12-03', Decimal('3100.00'), None, 2001),\n",
       " (69324, 'MARKER', 'CLERK', 67832, '1992-01-23', Decimal('1400.00'), None, 1001)]"
      ]
     },
     "execution_count": 10,
     "metadata": {},
     "output_type": "execute_result"
    }
   ],
   "source": [
    "cursor.execute('select * from employees')\n",
    "b=cursor.fetchall()\n",
    "b"
   ]
  },
  {
   "cell_type": "code",
   "execution_count": 12,
   "id": "1b0b60fe",
   "metadata": {},
   "outputs": [
    {
     "data": {
      "text/plain": [
       "[(64989, 'ADELYN', 'SALESMAN', 66928, '1991-02-20', Decimal('1700.00'), Decimal('400.00'), 3001),\n",
       " (68736, 'ADNRES', 'CLERK', 67858, '1997-05-23', Decimal('1200.00'), None, 2001)]"
      ]
     },
     "execution_count": 12,
     "metadata": {},
     "output_type": "execute_result"
    }
   ],
   "source": [
    "cursor.execute(\"select * from employees where emp_name like 'a%'\")\n",
    "c=cursor.fetchall()\n",
    "c\n"
   ]
  },
  {
   "cell_type": "code",
   "execution_count": 14,
   "id": "368c585b",
   "metadata": {},
   "outputs": [
    {
     "data": {
      "text/plain": [
       "[(Decimal('6200.00'), 'ANALYST'),\n",
       " (Decimal('4550.00'), 'CLERK'),\n",
       " (Decimal('8257.00'), 'MANAGER'),\n",
       " (Decimal('6000.00'), 'PRESIDENT'),\n",
       " (Decimal('5000.00'), 'SALESMAN')]"
      ]
     },
     "execution_count": 14,
     "metadata": {},
     "output_type": "execute_result"
    }
   ],
   "source": [
    "cursor.execute(\"select sum(salary),job_name from employees group by job_name\")\n",
    "d=cursor.fetchall()\n",
    "d"
   ]
  },
  {
   "cell_type": "code",
   "execution_count": 16,
   "id": "4a80c4c4",
   "metadata": {},
   "outputs": [
    {
     "data": {
      "text/plain": [
       "<pyodbc.Cursor at 0x225ab920eb0>"
      ]
     },
     "execution_count": 16,
     "metadata": {},
     "output_type": "execute_result"
    }
   ],
   "source": [
    "cursor.execute('create table xyz(id int, name char(30),place char(30))')"
   ]
  },
  {
   "cell_type": "code",
   "execution_count": 17,
   "id": "19f1c937",
   "metadata": {},
   "outputs": [
    {
     "data": {
      "text/plain": [
       "[('department', 885578193, None, 1, 0, 'U ', 'USER_TABLE', datetime.datetime(2022, 9, 23, 11, 2, 18, 540000), datetime.datetime(2022, 9, 23, 11, 2, 36, 950000), False, False, False, 0, None, 3, False, True, False, False, False, False, False, 0, False, False, 0, 'TABLE', False, False, 0, 'SCHEMA_AND_DATA', 0, 'NON_TEMPORAL_TABLE', None, False, False, None, None, None, False, False),\n",
       " ('salary_grade', 917578307, None, 1, 0, 'U ', 'USER_TABLE', datetime.datetime(2022, 9, 23, 11, 2, 23, 20000), datetime.datetime(2022, 9, 23, 11, 2, 23, 20000), False, False, False, 0, None, 3, False, True, False, False, False, False, False, 0, False, False, 0, 'TABLE', False, False, 0, 'SCHEMA_AND_DATA', 0, 'NON_TEMPORAL_TABLE', None, False, False, None, None, None, False, False),\n",
       " ('employees', 949578421, None, 1, 0, 'U ', 'USER_TABLE', datetime.datetime(2022, 9, 23, 11, 2, 36, 943000), datetime.datetime(2022, 9, 23, 11, 2, 36, 943000), False, False, False, 0, None, 8, False, True, False, False, False, False, False, 0, False, False, 0, 'TABLE', False, False, 0, 'SCHEMA_AND_DATA', 0, 'NON_TEMPORAL_TABLE', None, False, False, None, None, None, False, False),\n",
       " ('xyz', 997578592, None, 1, 0, 'U ', 'USER_TABLE', datetime.datetime(2022, 9, 23, 12, 13, 58, 453000), datetime.datetime(2022, 9, 23, 12, 13, 58, 453000), False, False, False, 0, None, 3, False, True, False, False, False, False, False, 0, False, False, 0, 'TABLE', False, False, 0, 'SCHEMA_AND_DATA', 0, 'NON_TEMPORAL_TABLE', None, False, False, None, None, None, False, False)]"
      ]
     },
     "execution_count": 17,
     "metadata": {},
     "output_type": "execute_result"
    }
   ],
   "source": [
    "cursor.execute('select * from sys.tables')\n",
    "e=cursor.fetchall()\n",
    "e"
   ]
  },
  {
   "cell_type": "code",
   "execution_count": 18,
   "id": "cc216ea5",
   "metadata": {},
   "outputs": [
    {
     "data": {
      "text/plain": [
       "<pyodbc.Cursor at 0x225ab920eb0>"
      ]
     },
     "execution_count": 18,
     "metadata": {},
     "output_type": "execute_result"
    }
   ],
   "source": [
    "cursor.execute(\"insert into xyz values(1,'priya','delhi')\")"
   ]
  },
  {
   "cell_type": "code",
   "execution_count": 19,
   "id": "dd7cde72",
   "metadata": {},
   "outputs": [],
   "source": [
    "cursor.execute(\"select * from xyz\")\n",
    "f=cursor.fetchall()"
   ]
  },
  {
   "cell_type": "code",
   "execution_count": 20,
   "id": "3564ee13",
   "metadata": {},
   "outputs": [
    {
     "data": {
      "text/plain": [
       "[(1, 'priya                         ', 'delhi                         ')]"
      ]
     },
     "execution_count": 20,
     "metadata": {},
     "output_type": "execute_result"
    }
   ],
   "source": [
    "f"
   ]
  },
  {
   "cell_type": "code",
   "execution_count": 87,
   "id": "c4b7c916",
   "metadata": {},
   "outputs": [],
   "source": [
    "class test():\n",
    "    def select(self,a):\n",
    "        cursor.execute('select * from '+a)\n",
    "        print(cursor.fetchall())\n",
    "    def insert(self,b,c):\n",
    "        cursor.execute('insert into '+b+\" values(\"+c+\")\")\n",
    "        print(cursor.fetchall())"
   ]
  },
  {
   "cell_type": "code",
   "execution_count": 88,
   "id": "ca39e0e9",
   "metadata": {},
   "outputs": [],
   "source": [
    "x=test()"
   ]
  },
  {
   "cell_type": "code",
   "execution_count": 89,
   "id": "31cfc61e",
   "metadata": {},
   "outputs": [
    {
     "name": "stdout",
     "output_type": "stream",
     "text": [
      "[(1, 'priya                         ', 'delhi                         '), (110, 'Rahul                         ', 'new                           '), (110, 'Rahul                         ', 'new                           ')]\n"
     ]
    }
   ],
   "source": [
    "x.select('xyz')"
   ]
  },
  {
   "cell_type": "code",
   "execution_count": 91,
   "id": "9c24c559",
   "metadata": {},
   "outputs": [
    {
     "ename": "ProgrammingError",
     "evalue": "No results.  Previous SQL was not a query.",
     "output_type": "error",
     "traceback": [
      "\u001b[1;31m---------------------------------------------------------------------------\u001b[0m",
      "\u001b[1;31mProgrammingError\u001b[0m                          Traceback (most recent call last)",
      "Input \u001b[1;32mIn [91]\u001b[0m, in \u001b[0;36m<cell line: 1>\u001b[1;34m()\u001b[0m\n\u001b[1;32m----> 1\u001b[0m \u001b[43mx\u001b[49m\u001b[38;5;241;43m.\u001b[39;49m\u001b[43minsert\u001b[49m\u001b[43m(\u001b[49m\u001b[38;5;124;43m'\u001b[39;49m\u001b[38;5;124;43mxyz\u001b[39;49m\u001b[38;5;124;43m'\u001b[39;49m\u001b[43m,\u001b[49m\u001b[38;5;124;43m\"\u001b[39;49m\u001b[38;5;124;43m2,\u001b[39;49m\u001b[38;5;124;43m'\u001b[39;49m\u001b[38;5;124;43mriya\u001b[39;49m\u001b[38;5;124;43m'\u001b[39;49m\u001b[38;5;124;43m,\u001b[39;49m\u001b[38;5;124;43m'\u001b[39;49m\u001b[38;5;124;43mjodhpur\u001b[39;49m\u001b[38;5;124;43m'\u001b[39;49m\u001b[38;5;124;43m\"\u001b[39;49m\u001b[43m)\u001b[49m\n",
      "Input \u001b[1;32mIn [87]\u001b[0m, in \u001b[0;36mtest.insert\u001b[1;34m(self, b, c)\u001b[0m\n\u001b[0;32m      5\u001b[0m \u001b[38;5;28;01mdef\u001b[39;00m \u001b[38;5;21minsert\u001b[39m(\u001b[38;5;28mself\u001b[39m,b,c):\n\u001b[0;32m      6\u001b[0m     cursor\u001b[38;5;241m.\u001b[39mexecute(\u001b[38;5;124m'\u001b[39m\u001b[38;5;124minsert into \u001b[39m\u001b[38;5;124m'\u001b[39m\u001b[38;5;241m+\u001b[39mb\u001b[38;5;241m+\u001b[39m\u001b[38;5;124m\"\u001b[39m\u001b[38;5;124m values(\u001b[39m\u001b[38;5;124m\"\u001b[39m\u001b[38;5;241m+\u001b[39mc\u001b[38;5;241m+\u001b[39m\u001b[38;5;124m\"\u001b[39m\u001b[38;5;124m)\u001b[39m\u001b[38;5;124m\"\u001b[39m)\n\u001b[1;32m----> 7\u001b[0m     \u001b[38;5;28mprint\u001b[39m(\u001b[43mcursor\u001b[49m\u001b[38;5;241;43m.\u001b[39;49m\u001b[43mfetchall\u001b[49m\u001b[43m(\u001b[49m\u001b[43m)\u001b[49m)\n",
      "\u001b[1;31mProgrammingError\u001b[0m: No results.  Previous SQL was not a query."
     ]
    }
   ],
   "source": [
    "x.insert('xyz',\"2,'riya','jodhpur'\")"
   ]
  },
  {
   "cell_type": "code",
   "execution_count": 113,
   "id": "b02b749a",
   "metadata": {},
   "outputs": [],
   "source": [
    "class DML:\n",
    "    def select(self,a,b):\n",
    "        cursor.execute(\"select \"+b+ \" from \" + a)\n",
    "        print(cursor.fetchall())\n",
    "    def insert(self,a,b):\n",
    "        cursor.execute((\"insert into \"+a+\" values(\"+b+\")\"))\n",
    "        cursor.execute(\"select * from \"+a)\n",
    "        print(cursor.fetchall())\n",
    "    def update(self,a,b,c,d):\n",
    "        cursor.execute((\"update \"+a+\" set \"+b+\" where \"+c+\" =\"+d))\n",
    "        cursor.execute(\"select * from \"+a)\n",
    "        print(cursor.fetchall())\n",
    "    def delete(self,a,b,c):\n",
    "        cursor.execute((\"delete from \"+a+\" where \"+b+\"=\"+c))\n",
    "        cursor.execute(\"select * from \"+a)\n",
    "        print(cursor.fetchall())"
   ]
  },
  {
   "cell_type": "code",
   "execution_count": 114,
   "id": "61563516",
   "metadata": {},
   "outputs": [],
   "source": [
    "z=DML()"
   ]
  },
  {
   "cell_type": "code",
   "execution_count": 115,
   "id": "b30d5e16",
   "metadata": {},
   "outputs": [
    {
     "name": "stdout",
     "output_type": "stream",
     "text": [
      "[(63679, 'SANDRINE', 'CLERK', 69062, '1990-12-18', Decimal('900.00'), None, 2001), (64989, 'ADELYN', 'SALESMAN', 66928, '1991-02-20', Decimal('1700.00'), Decimal('400.00'), 3001), (65271, 'WADE', 'SALESMAN', 66928, '1991-02-22', Decimal('1350.00'), Decimal('600.00'), 3001), (65646, 'JONAS', 'MANAGER', 68319, '1991-04-02', Decimal('2957.00'), None, 2001), (66564, 'MADDEN', 'SALESMAN', 66928, '1991-09-28', Decimal('1350.00'), Decimal('1500.00'), 3001), (66928, 'BLAZE', 'MANAGER', 68319, '1991-05-01', Decimal('2750.00'), None, 3001), (67832, 'CLARE ', 'MANAGER', 68319, '1991-06-09', Decimal('2550.00'), None, 1001), (67858, 'SCARLET', 'ANALYST', 65646, '1997-04-19', Decimal('3100.00'), None, 2001), (68319, 'KAYLING', 'PRESIDENT', None, '1991-11-18', Decimal('6000.00'), None, 1001), (68454, 'TUCKER', 'SALESMAN', 66928, '1991-09-08', Decimal('600.00'), Decimal('0.00'), 3001), (68736, 'ADNRES', 'CLERK', 67858, '1997-05-23', Decimal('1200.00'), None, 2001), (69000, 'JULIUS', 'CLERK', 66928, '1991-12-03', Decimal('1050.00'), None, 3001), (69062, 'FRANK ', 'ANALYST', 65646, '1991-12-03', Decimal('3100.00'), None, 2001), (69324, 'MARKER', 'CLERK', 67832, '1992-01-23', Decimal('1400.00'), None, 1001)]\n"
     ]
    }
   ],
   "source": [
    "z.select(\"employees\",\"*\")"
   ]
  },
  {
   "cell_type": "code",
   "execution_count": 116,
   "id": "451915f2",
   "metadata": {},
   "outputs": [
    {
     "name": "stdout",
     "output_type": "stream",
     "text": [
      "[(1, 'priya                         ', 'okay                          '), (110, 'Rahul                         ', 'new                           '), (110, 'Rahul                         ', 'new                           '), (2, 'riya                          ', 'jodhpur                       '), (2, 'riya                          ', 'jodhpur                       '), (110, 'Rahul                         ', 'new                           '), (110, 'Rahul                         ', 'new                           '), (110, 'Rahul                         ', 'new                           ')]\n"
     ]
    }
   ],
   "source": [
    "z.insert('xyz',\"110,'Rahul','new'\")"
   ]
  },
  {
   "cell_type": "code",
   "execution_count": 117,
   "id": "03d2cf32",
   "metadata": {},
   "outputs": [
    {
     "name": "stdout",
     "output_type": "stream",
     "text": [
      "[(1, 'priya                         ', 'okay                          '), (110, 'Rahul                         ', 'new                           '), (110, 'Rahul                         ', 'new                           '), (2, 'riya                          ', 'jodhpur                       '), (2, 'riya                          ', 'jodhpur                       '), (110, 'Rahul                         ', 'new                           '), (110, 'Rahul                         ', 'new                           '), (110, 'Rahul                         ', 'new                           ')]\n"
     ]
    }
   ],
   "source": [
    "z.update('xyz',\"place='okay'\",'id','1')"
   ]
  },
  {
   "cell_type": "code",
   "execution_count": 118,
   "id": "557fa591",
   "metadata": {},
   "outputs": [
    {
     "name": "stdout",
     "output_type": "stream",
     "text": [
      "[(1, 'priya                         ', 'okay                          '), (2, 'riya                          ', 'jodhpur                       '), (2, 'riya                          ', 'jodhpur                       ')]\n"
     ]
    }
   ],
   "source": [
    "z.delete('xyz','id','110')"
   ]
  },
  {
   "cell_type": "code",
   "execution_count": null,
   "id": "2e0dc0fd",
   "metadata": {},
   "outputs": [],
   "source": []
  }
 ],
 "metadata": {
  "kernelspec": {
   "display_name": "Python 3 (ipykernel)",
   "language": "python",
   "name": "python3"
  },
  "language_info": {
   "codemirror_mode": {
    "name": "ipython",
    "version": 3
   },
   "file_extension": ".py",
   "mimetype": "text/x-python",
   "name": "python",
   "nbconvert_exporter": "python",
   "pygments_lexer": "ipython3",
   "version": "3.9.12"
  }
 },
 "nbformat": 4,
 "nbformat_minor": 5
}
