{
 "cells": [
  {
   "cell_type": "code",
   "execution_count": 1,
   "id": "fb7c71dc",
   "metadata": {},
   "outputs": [],
   "source": [
    "import pyodbc\n",
    "import numpy as np\n",
    "import pandas as pd"
   ]
  },
  {
   "cell_type": "code",
   "execution_count": 2,
   "id": "1b0a080a",
   "metadata": {},
   "outputs": [],
   "source": [
    "path=pyodbc.connect('Driver={SQL Server};''Server=DESKTOP-79QHG70\\SQLEXPRESS;''Database=assignment;''Trusted_Connection=yes')\n",
    "cursor=path.cursor()"
   ]
  },
  {
   "cell_type": "code",
   "execution_count": 3,
   "id": "bb3ad156",
   "metadata": {},
   "outputs": [
    {
     "name": "stdout",
     "output_type": "stream",
     "text": [
      "('employee', 885578193, None, 1, 0, 'U ', 'USER_TABLE', datetime.datetime(2022, 9, 28, 13, 48, 21, 943000), datetime.datetime(2022, 9, 28, 13, 48, 21, 943000), False, False, False, 0, None, 5, False, True, False, False, False, False, False, 0, False, False, 0, 'TABLE', False, False, 0, 'SCHEMA_AND_DATA', 0, 'NON_TEMPORAL_TABLE', None, False, False, None, None, None, False, False)\n"
     ]
    }
   ],
   "source": [
    "cursor.execute('select * from sys.tables')\n",
    "for i in cursor:\n",
    "    print(i)"
   ]
  },
  {
   "cell_type": "code",
   "execution_count": 4,
   "id": "3935743c",
   "metadata": {},
   "outputs": [
    {
     "name": "stdout",
     "output_type": "stream",
     "text": [
      "(101, 'Sunny                         ', 76540, 7890654321, 'delhi                         ')\n",
      "(102, 'shalini                       ', 54321, 7890654320, 'mumbai                        ')\n",
      "(103, 'anrudhan                      ', 45678, 8790563214, 'gurugram                      ')\n",
      "(104, 'pankaj                        ', 43890, 8790563219, 'allahabad                     ')\n",
      "(105, 'jatin                         ', 56098, None, 'gurugram                      ')\n",
      "(106, 'suraj                         ', 76543, 6789054321, 'mumbai                        ')\n",
      "(107, 'Anil                          ', 65432, 7890654329, 'mumbai                        ')\n",
      "(108, 'Aditya                        ', 65409, 6590871234, 'delhi                         ')\n",
      "(109, 'Rohit                         ', 98076, 5678904321, 'delhi                         ')\n"
     ]
    }
   ],
   "source": [
    "cursor.execute('select * from dbo.employee')\n",
    "for i in cursor:\n",
    "    print(i)"
   ]
  },
  {
   "cell_type": "code",
   "execution_count": 38,
   "id": "02a73c79",
   "metadata": {},
   "outputs": [],
   "source": [
    "cursor.execute('create table Pit(id int,name varchar(30),occupation varchar(30),phone_number bigint)')\n",
    "path.commit()"
   ]
  },
  {
   "cell_type": "code",
   "execution_count": 47,
   "id": "c6e08ae1",
   "metadata": {},
   "outputs": [],
   "source": [
    "cursor.execute('select * from dbo.Pit')\n",
    "for i in cursor:\n",
    "    print(i)"
   ]
  },
  {
   "cell_type": "code",
   "execution_count": 40,
   "id": "941fd499",
   "metadata": {},
   "outputs": [],
   "source": [
    "class operations:\n",
    "    def insert(self,category,value):\n",
    "        cursor.execute(\"insert into \"+category+\" values \"+ value)\n",
    "    def update(self,table,column,previous,new_value,column2):\n",
    "        cursor.execute(\"update \"+table+\" set \"+column+\"=\"+new_value+\" where \"+column2+\"=\"+previous)\n",
    "    def delete(self,table,column,value):\n",
    "        cursor.execute(\"delete from \"+table+\" where \"+column+'='+value)\n",
    "    def search(self,columns,table,category,value):\n",
    "        cursor.execute(\"select \"+columns+\" from \"+table+\" where \"+category+\"=\"+value)\n",
    "    "
   ]
  },
  {
   "cell_type": "code",
   "execution_count": 66,
   "id": "5f635dcd",
   "metadata": {},
   "outputs": [
    {
     "name": "stdout",
     "output_type": "stream",
     "text": [
      "Enter 1 to INSERT, 2 to UPDATE, 3 to DELETE AND 4 to SEARCH:  4\n",
      "enter the columns need to be searched:*\n",
      "enter the name of table: Pit\n",
      "enter the catrgory of the value be searched: occupation\n",
      "enter the value on the basis it needs to be searched: 'Doctor'\n",
      "[(4, 'Neeraj', 'Doctor', 5676534563)]\n"
     ]
    }
   ],
   "source": [
    "select=int(input('Enter 1 to INSERT, 2 to UPDATE, 3 to DELETE AND 4 to SEARCH:  '))\n",
    "if select==1:\n",
    "    category=input(\"enter the name of the table or category where value needs to be inserted \")\n",
    "    value=input(\"enter the value need to be inserted\")\n",
    "    x=operations()\n",
    "    x.insert(category,value)\n",
    "    cursor.execute('select * from '+category)\n",
    "    a=cursor.fetchall()\n",
    "    print(a)\n",
    "    path.commit()\n",
    "elif select==2:\n",
    "    table=input(\"enter the name of the table \")\n",
    "    column=input(\"enter the column that needs to be updated: \")\n",
    "    new_value=input(\"enter the new value: \")\n",
    "    column2=input(\"enter column for where clause\")\n",
    "    previous=input(\"enter the value which needs to be updated: \")\n",
    "    x=operations()\n",
    "    x.update(table,column,previous,new_value,column2)\n",
    "    cursor.execute('select * from '+table)\n",
    "    a=cursor.fetchall()\n",
    "    print(a)\n",
    "    path.commit()\n",
    "elif select==3:\n",
    "    table=input(\"enter the name of the table \")\n",
    "    column=input(\"enter the column that needs to be updated: \")\n",
    "    value=input(\"enter the value which needs to be deleted: \")\n",
    "    x=operations()\n",
    "    x.delete(table,column,value)\n",
    "    cursor.execute('select * from '+table)\n",
    "    a=cursor.fetchall()\n",
    "    path.commit()\n",
    "elif select==4:\n",
    "    columns=input(\"enter the columns need to be searched:\")\n",
    "    table=input(\"enter the name of table: \")\n",
    "    category=input(\"enter the catrgory of the value be searched: \")\n",
    "    value=input(\"enter the value on the basis it needs to be searched: \")\n",
    "    x=operations()\n",
    "    x.search(columns,table,category,value)\n",
    "    a=cursor.fetchall()\n",
    "    print(a)\n",
    "    path.commit()\n",
    "else:\n",
    "    print(\"Invalid Operation\")\n",
    "    "
   ]
  },
  {
   "cell_type": "code",
   "execution_count": null,
   "id": "c0fbbff6",
   "metadata": {},
   "outputs": [],
   "source": []
  }
 ],
 "metadata": {
  "kernelspec": {
   "display_name": "Python 3 (ipykernel)",
   "language": "python",
   "name": "python3"
  },
  "language_info": {
   "codemirror_mode": {
    "name": "ipython",
    "version": 3
   },
   "file_extension": ".py",
   "mimetype": "text/x-python",
   "name": "python",
   "nbconvert_exporter": "python",
   "pygments_lexer": "ipython3",
   "version": "3.9.12"
  }
 },
 "nbformat": 4,
 "nbformat_minor": 5
}
